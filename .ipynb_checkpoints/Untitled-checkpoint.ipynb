{
 "cells": [
  {
   "cell_type": "code",
   "execution_count": 24,
   "metadata": {},
   "outputs": [
    {
     "name": "stdout",
     "output_type": "stream",
     "text": [
      " Enter Country Name : india\n",
      " Enter City Name : delhi\n",
      "%s SIMILAR RESULTS FOUND. 2\n",
      " -------------------------------------------------------------\n",
      " |  Options                                          |  Code |\n",
      " -------------------------------------------------------------\n"
     ]
    },
    {
     "ename": "ValueError",
     "evalue": "Invalid format specifier",
     "output_type": "error",
     "traceback": [
      "\u001b[0;31m---------------------------------------------------------------------------\u001b[0m",
      "\u001b[0;31mValueError\u001b[0m                                Traceback (most recent call last)",
      "\u001b[0;32m<ipython-input-24-86c88c049caf>\u001b[0m in \u001b[0;36m<module>\u001b[0;34m\u001b[0m\n\u001b[1;32m     28\u001b[0m                     \u001b[0;32mfor\u001b[0m \u001b[0mi\u001b[0m \u001b[0;32min\u001b[0m \u001b[0mrange\u001b[0m\u001b[0;34m(\u001b[0m\u001b[0mlen\u001b[0m\u001b[0;34m(\u001b[0m\u001b[0mcity_name\u001b[0m\u001b[0;34m)\u001b[0m\u001b[0;34m)\u001b[0m\u001b[0;34m:\u001b[0m\u001b[0;34m\u001b[0m\u001b[0;34m\u001b[0m\u001b[0m\n\u001b[1;32m     29\u001b[0m                         \u001b[0mi\u001b[0m \u001b[0;34m=\u001b[0m \u001b[0mi\u001b[0m\u001b[0;34m+\u001b[0m\u001b[0;36m1\u001b[0m\u001b[0;34m\u001b[0m\u001b[0;34m\u001b[0m\u001b[0m\n\u001b[0;32m---> 30\u001b[0;31m                         \u001b[0mprint\u001b[0m\u001b[0;34m(\u001b[0m\u001b[0;34m'{: | <53s}{|:>6d|}'\u001b[0m\u001b[0;34m.\u001b[0m\u001b[0mformat\u001b[0m\u001b[0;34m(\u001b[0m\u001b[0mcity_name\u001b[0m\u001b[0;34m[\u001b[0m\u001b[0mi\u001b[0m\u001b[0;34m]\u001b[0m\u001b[0;34m,\u001b[0m\u001b[0mi\u001b[0m\u001b[0;34m)\u001b[0m\u001b[0;34m)\u001b[0m\u001b[0;34m\u001b[0m\u001b[0;34m\u001b[0m\u001b[0m\n\u001b[0m\u001b[1;32m     31\u001b[0m                         \u001b[0mi\u001b[0m \u001b[0;34m=\u001b[0m \u001b[0mi\u001b[0m \u001b[0;34m-\u001b[0m \u001b[0;36m1\u001b[0m\u001b[0;34m\u001b[0m\u001b[0;34m\u001b[0m\u001b[0m\n\u001b[1;32m     32\u001b[0m                     \u001b[0mprint\u001b[0m\u001b[0;34m(\u001b[0m\u001b[0;34m\" \"\u001b[0m \u001b[0;34m+\u001b[0m \u001b[0mdash\u001b[0m\u001b[0;34m)\u001b[0m\u001b[0;34m\u001b[0m\u001b[0;34m\u001b[0m\u001b[0m\n",
      "\u001b[0;31mValueError\u001b[0m: Invalid format specifier"
     ]
    }
   ],
   "source": [
    "import difflib\n",
    "from difflib  import get_close_matches\n",
    "import pandas\n",
    "\n",
    "data = pandas.read_csv(\"country-code.csv\")\n",
    "country_name = input(\" Enter Country Name : \")\n",
    "while(1):\n",
    "    if(country_name in data.Name.values):\n",
    "        ccode = list(data.loc[data['Name'] == country_name, 'Code'])[0]\n",
    "        city_data = pandas.read_csv(\"world-cities_csv.csv\")\n",
    "        city_name = input(\" Enter City Name : \")\n",
    "        while(1):\n",
    "            if((city_name in city_data.name.values)):\n",
    "                location = city_name +\", \"+ ccode\n",
    "                print(\" Desired Location : \",location)\n",
    "                break\n",
    "            else:\n",
    "                if(len(get_close_matches(city_name, city_data.name.values, n = 1, cutoff = 0.6)) == 0 ):\n",
    "                    print(\"NO RESULTS FOUND. TRY AGAIN.\\n\")\n",
    "                    city_name = input(\" Enter Country Name : \")\n",
    "                else:\n",
    "                    city_name = list(get_close_matches(city_name, city_data.name.values, n = 5, cutoff = 0.8))\n",
    "                    print(\"%s SIMILAR RESULTS FOUND.\", len(city_name))\n",
    "                    dash = '-' * 61\n",
    "                    print(\" \" + dash)\n",
    "                    print('{:<52s}{:>6s}'.format(' |  Options',\" |  Code |\"))\n",
    "                    print(\" \" + dash)\n",
    "                    for i in range(len(city_name)):\n",
    "                        i = i+1\n",
    "                        print('{:<53 | s}{|:>6d|}'.format(city_name[i],i))\n",
    "                        i = i - 1\n",
    "                    print(\" \" + dash)\n",
    "                    break\n",
    "\n",
    "    else:\n",
    "        if(len(get_close_matches(country_name, data.Name.values, n = 1, cutoff = 0.6)) == 0 ):\n",
    "            print(\"NO RESULTS FOUND. TRY AGAIN.\\n\")\n",
    "            country_name = input(\" Enter Country Name : \")\n",
    "        else:\n",
    "            country_name = get_close_matches(country_name, data.Name.values, n = 1, cutoff = 0.6)[0]"
   ]
  },
  {
   "cell_type": "code",
   "execution_count": null,
   "metadata": {},
   "outputs": [],
   "source": [
    "import difflib\n",
    "from difflib  import get_close_matches\n",
    "import pandas\n",
    "\n",
    "data = pandas.read_csv(\"country-code.csv\")\n",
    "country_name = input(\" Enter Country Name : \")\n",
    "while(True):\n",
    "    if(country_name in data.Name.values):\n",
    "        print(\"YES\")\n",
    "        exit()\n",
    "    else:\n",
    "        if(len(get_close_matches(country_name, data.Name.values, n = 1, cutoff = 0.6)) == 0 ):\n",
    "            print(\"NO RESULTS FOUND. TRY AGAIN.\\n\")\n",
    "            country_name = input(\" Enter Country Name : \")\n",
    "        else:\n",
    "            country_name = get_close_matches(country_name, data.Name.values, n = 1, cutoff = 0.6)"
   ]
  }
 ],
 "metadata": {
  "kernelspec": {
   "display_name": "Python 3",
   "language": "python",
   "name": "python3"
  },
  "language_info": {
   "codemirror_mode": {
    "name": "ipython",
    "version": 3
   },
   "file_extension": ".py",
   "mimetype": "text/x-python",
   "name": "python",
   "nbconvert_exporter": "python",
   "pygments_lexer": "ipython3",
   "version": "3.6.9"
  }
 },
 "nbformat": 4,
 "nbformat_minor": 4
}
