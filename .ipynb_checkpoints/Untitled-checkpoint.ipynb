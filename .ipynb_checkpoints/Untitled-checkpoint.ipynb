{
 "cells": [
  {
   "cell_type": "code",
   "execution_count": 13,
   "metadata": {},
   "outputs": [
    {
     "name": "stdout",
     "output_type": "stream",
     "text": [
      "starting your console application...\\Hello David\n"
     ]
    }
   ],
   "source": [
    "import time \n",
    "import sys \n",
    "import os \n",
    "\n",
    "def load_animation(): \n",
    "    load_str = \"starting your console application...\"\n",
    "    animation = \"|/-\\\\\"\n",
    "    anicount = 0\n",
    "    counttime = 0        \n",
    "    i = 0                     \n",
    "    while (counttime != 100): \n",
    "        time.sleep(0.075)  \n",
    "        sys.stdout.write(\"\\r\"+ load_str + animation[anicount]) \n",
    "        sys.stdout.flush() \n",
    "        anicount = (anicount + 1)% 4\n",
    "        counttime = counttime + 1\n",
    "    if os.name ==\"nt\": \n",
    "        os.system(\"cls\") \n",
    "    else: \n",
    "        os.system(\"clear\") \n",
    "  \n",
    "# Driver program \n",
    "if __name__ == '__main__':  \n",
    "    load_animation() \n",
    "    s =\"David\"\n",
    "    sys.stdout.write(\"Hello \"+str(s)+\"\\n\")"
   ]
  }
 ],
 "metadata": {
  "kernelspec": {
   "display_name": "Python 3",
   "language": "python",
   "name": "python3"
  },
  "language_info": {
   "codemirror_mode": {
    "name": "ipython",
    "version": 3
   },
   "file_extension": ".py",
   "mimetype": "text/x-python",
   "name": "python",
   "nbconvert_exporter": "python",
   "pygments_lexer": "ipython3",
   "version": "3.6.9"
  }
 },
 "nbformat": 4,
 "nbformat_minor": 4
}
